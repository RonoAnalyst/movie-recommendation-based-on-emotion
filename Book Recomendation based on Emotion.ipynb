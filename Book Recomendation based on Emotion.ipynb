{
 "cells": [
  {
   "cell_type": "code",
   "execution_count": 3,
   "id": "88766808-f41c-4437-823f-7bcf167a6ac3",
   "metadata": {},
   "outputs": [
    {
     "name": "stdin",
     "output_type": "stream",
     "text": [
      "Enter the emotion:  Sad\n"
     ]
    }
   ],
   "source": [
    "from bs4 import BeautifulSoup as SOUP\n",
    "import re\n",
    "import requests as HTTP\n",
    " \n",
    "# Main Function for scraping\n",
    " \n",
    " \n",
    "def main(emotion):\n",
    " \n",
    "    # IMDb Url for a Cheerful book for a sad day\n",
    "    if(emotion == \"Sad\"):\n",
    "        urlhere = 'http://www.imdb.com/search/title?genres=drama&title_type=feature&sort=moviemeter, asc'\n",
    " \n",
    "    # IMDb Url for a motivating book on a depressed day\n",
    "    elif(emotion == \"Depressed\"):\n",
    "        urlhere = 'http://www.imdb.com/search/title?genres=musical&title_type=feature&sort=moviemeter, asc'\n",
    " \n",
    "    \n",
    "    # HTTP request to get the data of\n",
    "    # the whole page\n",
    "    response = HTTP.get(urlhere)\n",
    "    data = response.text\n",
    " \n",
    "    # Parsing the data using\n",
    "    # BeautifulSoup\n",
    "    soup = SOUP(data, \"lxml\")\n",
    " \n",
    "    # Extract Book titles from the\n",
    "    # data using regex\n",
    "    title = soup.find_all(\n",
    "        \"a\", attrs={\"href\": re.compile(r'\\/title\\/tt+\\d*\\/')})\n",
    "    return title\n",
    " \n",
    " \n",
    "# Driver Function\n",
    "if __name__ == '__main__':\n",
    " \n",
    "    emotion = input(\"Enter the emotion: \")\n",
    "    a = main(emotion)\n",
    "    count = 0\n",
    " \n",
    "    if(emotion == \"Sad\" or emotion == \"Depressed\"\n",
    "       ):\n",
    " \n",
    "        for i in a:\n",
    " \n",
    "            # Splitting each line of the\n",
    "            # IMDb data to scrape movies\n",
    "            tmp = str(i).split('>;')\n",
    " \n",
    "            if(len(tmp) == 3):\n",
    "                print(tmp[1][:-3])\n",
    " \n",
    "            if(count > 13):\n",
    "                break\n",
    "            count += 1\n",
    "    else:\n",
    "        for i in a:\n",
    "            tmp = str(i).split('>')\n",
    " \n",
    "            if(len(tmp) == 3):\n",
    "                print(tmp[1][:-3])\n",
    " \n",
    "            if(count > 11):\n",
    "                break\n",
    "            count += 1"
   ]
  },
  {
   "cell_type": "code",
   "execution_count": 7,
   "id": "5a7e4d79-8780-48b6-bf22-73607bf885ca",
   "metadata": {},
   "outputs": [
    {
     "name": "stdin",
     "output_type": "stream",
     "text": [
      "Enter the emotion:  Fiction\n"
     ]
    }
   ],
   "source": [
    "from bs4 import BeautifulSoup as SOUP\n",
    "import re\n",
    "import requests as HTTP\n",
    "\n",
    "def main(emotion):\n",
    "    # Google search URL for fiction books\n",
    "    if emotion == \"Fiction\":\n",
    "        urlhere = 'https://www.google.com/search?q=fiction+books'\n",
    "    else:\n",
    "        return None  # Return None for unsupported emotions\n",
    "\n",
    "    try:\n",
    "        # HTTP request to get the data of the whole page\n",
    "        response = HTTP.get(urlhere)\n",
    "        response.raise_for_status()  # Raise an exception if the request fails\n",
    "\n",
    "        data = response.text\n",
    "        # Parsing the data using BeautifulSoup\n",
    "        soup = SOUP(data, \"html.parser\")\n",
    "\n",
    "        # Extract book titles from the data\n",
    "        title = soup.find_all(\"h3\", class_=\"LC20lb DKV0Md\")\n",
    "\n",
    "        return title\n",
    "\n",
    "    except HTTP.exceptions.RequestException as e:\n",
    "        print(\"HTTP Request Error:\", e)\n",
    "        return None\n",
    "\n",
    "# Driver Function\n",
    "if __name__ == '__main__':\n",
    "    emotion = input(\"Enter the emotion: \").strip()\n",
    "\n",
    "    # Check if the emotion is supported\n",
    "    if emotion != \"Fiction\":\n",
    "        print(\"Unsupported emotion.\")\n",
    "    else:\n",
    "        a = main(emotion)\n",
    "        if a is not None:\n",
    "            count = 0\n",
    "            for i in a:\n",
    "                # Extracting book titles\n",
    "                tmp = i.get_text()\n",
    "                if tmp:\n",
    "                    print(tmp)\n",
    "                    count += 1\n",
    "                    if count > 10:\n",
    "                        break\n",
    "        else:\n",
    "            print(\"Failed to fetch book data.\")"
   ]
  },
  {
   "cell_type": "code",
   "execution_count": 1,
   "id": "3936d993-531a-40c3-9ee7-928666a3afc1",
   "metadata": {},
   "outputs": [
    {
     "ename": "ModuleNotFoundError",
     "evalue": "No module named 'cowsay'",
     "output_type": "error",
     "traceback": [
      "\u001b[1;31m---------------------------------------------------------------------------\u001b[0m",
      "\u001b[1;31mModuleNotFoundError\u001b[0m                       Traceback (most recent call last)",
      "Cell \u001b[1;32mIn[1], line 1\u001b[0m\n\u001b[1;32m----> 1\u001b[0m \u001b[38;5;28;01mimport\u001b[39;00m \u001b[38;5;21;01mcowsay\u001b[39;00m\n\u001b[0;32m      2\u001b[0m cowsay\u001b[38;5;241m.\u001b[39mdaemon(\u001b[38;5;124m\"\u001b[39m\u001b[38;5;124mHi\u001b[39m\u001b[38;5;124m\"\u001b[39m)\n",
      "\u001b[1;31mModuleNotFoundError\u001b[0m: No module named 'cowsay'"
     ]
    }
   ],
   "source": [
    "import cowsay\n",
    "cowsay.daemon(\"Hi\")\n"
   ]
  },
  {
   "cell_type": "code",
   "execution_count": null,
   "id": "beaf3e98-1d96-45f4-9a1f-dab1caa5a473",
   "metadata": {},
   "outputs": [],
   "source": []
  }
 ],
 "metadata": {
  "kernelspec": {
   "display_name": "Python 3 (ipykernel)",
   "language": "python",
   "name": "python3"
  },
  "language_info": {
   "codemirror_mode": {
    "name": "ipython",
    "version": 3
   },
   "file_extension": ".py",
   "mimetype": "text/x-python",
   "name": "python",
   "nbconvert_exporter": "python",
   "pygments_lexer": "ipython3",
   "version": "3.10.9"
  }
 },
 "nbformat": 4,
 "nbformat_minor": 5
}
